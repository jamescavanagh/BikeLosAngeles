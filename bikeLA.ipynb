{
 "cells": [
  {
   "cell_type": "code",
   "execution_count": 1,
   "metadata": {},
   "outputs": [],
   "source": [
    "# Bike LA\n"
   ]
  },
  {
   "cell_type": "markdown",
   "metadata": {},
   "source": []
  },
  {
   "cell_type": "code",
   "execution_count": 29,
   "metadata": {},
   "outputs": [],
   "source": [
    "# Import Statements \n",
    "\n",
    "from pathlib import Path\n",
    "\n",
    "import numpy as np\n",
    "import pandas as pd\n",
    "from matplotlib import pyplot as plt"
   ]
  },
  {
   "cell_type": "code",
   "execution_count": 30,
   "metadata": {},
   "outputs": [],
   "source": [
    "# Configs \n",
    "\n",
    "DATA_DIR = Path('/home/jentlejames/Datasets/BikeLA')\n",
    "PROJECT_DIR = Path('/home/jentlejames/Projects/Data/Data Analysis Projects/BikeLA')"
   ]
  },
  {
   "cell_type": "code",
   "execution_count": 31,
   "metadata": {},
   "outputs": [
    {
     "name": "stderr",
     "output_type": "stream",
     "text": [
      "/tmp/ipykernel_96199/3422107932.py:3: DtypeWarning: Columns (8) have mixed types. Specify dtype option on import or set low_memory=False.\n",
      "  train = pd.read_csv(DATA_DIR/'train_set.csv')\n"
     ]
    },
    {
     "name": "stdout",
     "output_type": "stream",
     "text": [
      "(569886, 12)\n",
      "(700000, 14)\n"
     ]
    },
    {
     "name": "stderr",
     "output_type": "stream",
     "text": [
      "/tmp/ipykernel_96199/3422107932.py:4: DtypeWarning: Columns (8) have mixed types. Specify dtype option on import or set low_memory=False.\n",
      "  test = pd.read_csv(DATA_DIR/'test_set.csv')\n"
     ]
    }
   ],
   "source": [
    "# Loading Data\n",
    "\n",
    "train = pd.read_csv(DATA_DIR/'train_set.csv')\n",
    "test = pd.read_csv(DATA_DIR/'test_set.csv')\n",
    "print(test.shape)\n",
    "print(train.shape)"
   ]
  },
  {
   "cell_type": "code",
   "execution_count": 32,
   "metadata": {},
   "outputs": [
    {
     "data": {
      "text/html": [
       "<div>\n",
       "<style scoped>\n",
       "    .dataframe tbody tr th:only-of-type {\n",
       "        vertical-align: middle;\n",
       "    }\n",
       "\n",
       "    .dataframe tbody tr th {\n",
       "        vertical-align: top;\n",
       "    }\n",
       "\n",
       "    .dataframe thead th {\n",
       "        text-align: right;\n",
       "    }\n",
       "</style>\n",
       "<table border=\"1\" class=\"dataframe\">\n",
       "  <thead>\n",
       "    <tr style=\"text-align: right;\">\n",
       "      <th></th>\n",
       "      <th>trip_id</th>\n",
       "      <th>duration</th>\n",
       "      <th>start_time</th>\n",
       "      <th>end_time</th>\n",
       "      <th>start_lat</th>\n",
       "      <th>start_lon</th>\n",
       "      <th>end_lat</th>\n",
       "      <th>end_lon</th>\n",
       "      <th>bike_id</th>\n",
       "      <th>plan_duration</th>\n",
       "      <th>trip_route_category</th>\n",
       "      <th>passholder_type</th>\n",
       "      <th>start_station</th>\n",
       "      <th>end_station</th>\n",
       "    </tr>\n",
       "  </thead>\n",
       "  <tbody>\n",
       "    <tr>\n",
       "      <th>619985</th>\n",
       "      <td>162113898</td>\n",
       "      <td>24</td>\n",
       "      <td>5/31/2021 12:58</td>\n",
       "      <td>5/31/2021 13:22</td>\n",
       "      <td>34.094372</td>\n",
       "      <td>-118.331009</td>\n",
       "      <td>34.082649</td>\n",
       "      <td>-118.284393</td>\n",
       "      <td>5741</td>\n",
       "      <td>365.0</td>\n",
       "      <td>One Way</td>\n",
       "      <td>Annual Pass</td>\n",
       "      <td>4482</td>\n",
       "      <td>4453</td>\n",
       "    </tr>\n",
       "    <tr>\n",
       "      <th>562726</th>\n",
       "      <td>147882434</td>\n",
       "      <td>6</td>\n",
       "      <td>9/23/2020 7:51</td>\n",
       "      <td>9/23/2020 7:57</td>\n",
       "      <td>34.049301</td>\n",
       "      <td>-118.238808</td>\n",
       "      <td>34.049980</td>\n",
       "      <td>-118.247162</td>\n",
       "      <td>5914</td>\n",
       "      <td>30.0</td>\n",
       "      <td>One Way</td>\n",
       "      <td>Monthly Pass</td>\n",
       "      <td>3042</td>\n",
       "      <td>3027</td>\n",
       "    </tr>\n",
       "    <tr>\n",
       "      <th>261191</th>\n",
       "      <td>163256212</td>\n",
       "      <td>12</td>\n",
       "      <td>6/11/2021 18:27</td>\n",
       "      <td>6/11/2021 18:39</td>\n",
       "      <td>34.101639</td>\n",
       "      <td>-118.309174</td>\n",
       "      <td>34.094372</td>\n",
       "      <td>-118.331009</td>\n",
       "      <td>5963</td>\n",
       "      <td>30.0</td>\n",
       "      <td>One Way</td>\n",
       "      <td>Monthly Pass</td>\n",
       "      <td>4509</td>\n",
       "      <td>4482</td>\n",
       "    </tr>\n",
       "  </tbody>\n",
       "</table>\n",
       "</div>"
      ],
      "text/plain": [
       "          trip_id  duration       start_time         end_time  start_lat  \\\n",
       "619985  162113898        24  5/31/2021 12:58  5/31/2021 13:22  34.094372   \n",
       "562726  147882434         6   9/23/2020 7:51   9/23/2020 7:57  34.049301   \n",
       "261191  163256212        12  6/11/2021 18:27  6/11/2021 18:39  34.101639   \n",
       "\n",
       "         start_lon    end_lat     end_lon bike_id  plan_duration  \\\n",
       "619985 -118.331009  34.082649 -118.284393    5741          365.0   \n",
       "562726 -118.238808  34.049980 -118.247162    5914           30.0   \n",
       "261191 -118.309174  34.094372 -118.331009    5963           30.0   \n",
       "\n",
       "       trip_route_category passholder_type  start_station  end_station  \n",
       "619985             One Way     Annual Pass           4482         4453  \n",
       "562726             One Way    Monthly Pass           3042         3027  \n",
       "261191             One Way    Monthly Pass           4509         4482  "
      ]
     },
     "execution_count": 32,
     "metadata": {},
     "output_type": "execute_result"
    }
   ],
   "source": [
    "# Inspecting the Data\n",
    "\n",
    "train.sample(3)"
   ]
  },
  {
   "cell_type": "code",
   "execution_count": 33,
   "metadata": {},
   "outputs": [],
   "source": [
    "# Checking Datatypes"
   ]
  },
  {
   "cell_type": "code",
   "execution_count": 34,
   "metadata": {},
   "outputs": [
    {
     "data": {
      "text/plain": [
       "trip_id                  int64\n",
       "duration                 int64\n",
       "start_time              object\n",
       "end_time                object\n",
       "start_lat              float64\n",
       "start_lon              float64\n",
       "end_lat                float64\n",
       "end_lon                float64\n",
       "bike_id                 object\n",
       "plan_duration          float64\n",
       "trip_route_category     object\n",
       "passholder_type         object\n",
       "start_station            int64\n",
       "end_station              int64\n",
       "dtype: object"
      ]
     },
     "execution_count": 34,
     "metadata": {},
     "output_type": "execute_result"
    }
   ],
   "source": [
    "train.dtypes"
   ]
  },
  {
   "cell_type": "code",
   "execution_count": 35,
   "metadata": {},
   "outputs": [],
   "source": [
    "# Converting to Datetime\n",
    "\n",
    "train['start_time'] = pd.to_datetime(train.start_time)\n",
    "train['end_time'] = pd.to_datetime(train.end_time)\n",
    "\n",
    "test['start_time'] = pd.to_datetime(test.start_time)\n",
    "test['end_time'] = pd.to_datetime(test.end_time)"
   ]
  },
  {
   "cell_type": "code",
   "execution_count": 36,
   "metadata": {},
   "outputs": [
    {
     "ename": "TypeError",
     "evalue": "NDFrame.last() missing 1 required positional argument: 'offset'",
     "output_type": "error",
     "traceback": [
      "\u001b[0;31m---------------------------------------------------------------------------\u001b[0m",
      "\u001b[0;31mTypeError\u001b[0m                                 Traceback (most recent call last)",
      "Cell \u001b[0;32mIn[36], line 1\u001b[0m\n\u001b[0;32m----> 1\u001b[0m train[\u001b[39m'\u001b[39;49m\u001b[39mstart_time\u001b[39;49m\u001b[39m'\u001b[39;49m]\u001b[39m.\u001b[39;49mlast()\n",
      "\u001b[0;31mTypeError\u001b[0m: NDFrame.last() missing 1 required positional argument: 'offset'"
     ]
    }
   ],
   "source": [
    "train['start_time'].last()"
   ]
  },
  {
   "attachments": {},
   "cell_type": "markdown",
   "metadata": {},
   "source": [
    "### Preprocessing Data\n",
    "\n",
    "Step 1: Understanding and Encoding Categorical Variables "
   ]
  },
  {
   "attachments": {},
   "cell_type": "markdown",
   "metadata": {},
   "source": [
    "#### Bike ID\n",
    "\n",
    "This contains some messy data, that is not an integer, \n",
    "cleaning up and inspecting"
   ]
  },
  {
   "cell_type": "code",
   "execution_count": null,
   "metadata": {},
   "outputs": [
    {
     "name": "stdout",
     "output_type": "stream",
     "text": [
      "Number of Unique Bike IDs in Training Set: 7563\n",
      "Number of Unique Bike IDs in Test Set: 6893\n"
     ]
    }
   ],
   "source": [
    "NumberOfUniqueBikeIDsTrain = len(train['bike_id'].unique())\n",
    "NumberOfUniqueBikeIDsTest = len(test['bike_id'].unique())\n",
    "\n",
    "print(f'Number of Unique Bike IDs in Training Set: {NumberOfUniqueBikeIDsTrain}')\n",
    "print(f'Number of Unique Bike IDs in Test Set: {NumberOfUniqueBikeIDsTest}')"
   ]
  },
  {
   "cell_type": "code",
   "execution_count": null,
   "metadata": {},
   "outputs": [
    {
     "data": {
      "text/plain": [
       "count     700000\n",
       "unique      7563\n",
       "top        19544\n",
       "freq        1183\n",
       "Name: bike_id, dtype: object"
      ]
     },
     "execution_count": 9,
     "metadata": {},
     "output_type": "execute_result"
    }
   ],
   "source": [
    "train['bike_id'].describe()"
   ]
  },
  {
   "cell_type": "code",
   "execution_count": null,
   "metadata": {},
   "outputs": [],
   "source": [
    "badBikeIDsTest = test[test['bike_id'].str.isnumeric() == False].index\n",
    "badBikeIDsTrain =  train[train['bike_id'].str.isnumeric() == False].index\n"
   ]
  },
  {
   "cell_type": "code",
   "execution_count": null,
   "metadata": {},
   "outputs": [],
   "source": [
    "test.drop(badBikeIDsTest,inplace=True)\n",
    "train.drop(badBikeIDsTrain,inplace=True)"
   ]
  },
  {
   "cell_type": "code",
   "execution_count": null,
   "metadata": {},
   "outputs": [],
   "source": []
  },
  {
   "cell_type": "code",
   "execution_count": null,
   "metadata": {},
   "outputs": [],
   "source": []
  },
  {
   "cell_type": "code",
   "execution_count": null,
   "metadata": {},
   "outputs": [
    {
     "data": {
      "text/plain": [
       "<AxesSubplot:>"
      ]
     },
     "execution_count": 13,
     "metadata": {},
     "output_type": "execute_result"
    },
    {
     "data": {
      "image/png": "[encoded data removed]",
      "text/plain": [
       "<Figure size 432x288 with 1 Axes>"
      ]
     },
     "metadata": {
      "needs_background": "light"
     },
     "output_type": "display_data"
    }
   ],
   "source": [
    "train['bike_id'].value_counts()[0:200].plot(kind='bar')\n",
    "plt.axe"
   ]
  },
  {
   "attachments": {},
   "cell_type": "markdown",
   "metadata": {},
   "source": [
    "This shows that there is a strong skew to the bike data, were some bikes get used much more often than others"
   ]
  },
  {
   "cell_type": "code",
   "execution_count": null,
   "metadata": {},
   "outputs": [
    {
     "data": {
      "text/plain": [
       "45.0"
      ]
     },
     "execution_count": 15,
     "metadata": {},
     "output_type": "execute_result"
    }
   ],
   "source": [
    "train.bike_id.value_counts().median()"
   ]
  },
  {
   "cell_type": "code",
   "execution_count": null,
   "metadata": {},
   "outputs": [
    {
     "data": {
      "text/plain": [
       "92.63935944944416"
      ]
     },
     "execution_count": 16,
     "metadata": {},
     "output_type": "execute_result"
    }
   ],
   "source": [
    "train.bike_id.value_counts().mean()"
   ]
  },
  {
   "attachments": {},
   "cell_type": "markdown",
   "metadata": {},
   "source": [
    "#### Trip Route Category and Passholder Type\n",
    "\n",
    "56% of all trips are done by passholders"
   ]
  },
  {
   "cell_type": "code",
   "execution_count": null,
   "metadata": {},
   "outputs": [
    {
     "data": {
      "text/plain": [
       "Monthly Pass    394763\n",
       "Walk-up         212424\n",
       "One Day Pass     44452\n",
       "Annual Pass      34086\n",
       "Flex Pass        11604\n",
       "Testing             78\n",
       "Name: passholder_type, dtype: int64"
      ]
     },
     "execution_count": 18,
     "metadata": {},
     "output_type": "execute_result"
    }
   ],
   "source": [
    "train['passholder_type'].value_counts()"
   ]
  },
  {
   "cell_type": "code",
   "execution_count": null,
   "metadata": {},
   "outputs": [
    {
     "name": "stdout",
     "output_type": "stream",
     "text": [
      "Percentage of Trips by monthly passholders: 0.5639608390489483\n"
     ]
    }
   ],
   "source": [
    "\n",
    "print( f\"Percentage of Trips by monthly passholders: {train['passholder_type'].value_counts()[0] / train.shape[0]}\")"
   ]
  },
  {
   "cell_type": "code",
   "execution_count": null,
   "metadata": {},
   "outputs": [
    {
     "data": {
      "text/plain": [
       "One Way       582073\n",
       "Round Trip    117910\n",
       "Name: trip_route_category, dtype: int64"
      ]
     },
     "execution_count": 19,
     "metadata": {},
     "output_type": "execute_result"
    }
   ],
   "source": [
    "train['trip_route_category'].value_counts()"
   ]
  },
  {
   "attachments": {},
   "cell_type": "markdown",
   "metadata": {},
   "source": [
    "## GPS\n",
    "\n",
    "Determining the Grids to be used"
   ]
  },
  {
   "cell_type": "code",
   "execution_count": null,
   "metadata": {},
   "outputs": [],
   "source": [
    "# He"
   ]
  },
  {
   "cell_type": "code",
   "execution_count": null,
   "metadata": {},
   "outputs": [],
   "source": [
    "train['end_lat'] = train['end_lat'].abs()\n",
    "train['end_lon'] = train['end_lon'].abs()\n",
    "train['start_lat'] = train['start_lat'].abs()\n",
    "train['start_lon'] = train['start_lon'].abs()\n",
    "\n",
    "test['end_lat'] = test['end_lat'].abs()\n",
    "test['end_lon'] = test['end_lon'].abs()\n",
    "test['start_lat'] = test['start_lat'].abs()\n",
    "test['start_lon'] = test['start_lon'].abs()"
   ]
  },
  {
   "cell_type": "code",
   "execution_count": 22,
   "metadata": {},
   "outputs": [],
   "source": [
    "highestLatitude = train['end_lat'].max()\n",
    "lowestLatitude =  train['end_lat'].min()"
   ]
  },
  {
   "cell_type": "code",
   "execution_count": 28,
   "metadata": {},
   "outputs": [
    {
     "data": {
      "text/plain": [
       "55.705528"
      ]
     },
     "execution_count": 28,
     "metadata": {},
     "output_type": "execute_result"
    }
   ],
   "source": [
    "train['start_lat'].max()\n",
    "# Why is the GPS in Moscow?\n",
    "# User Used  a VPN? \n",
    "\n"
   ]
  },
  {
   "attachments": {},
   "cell_type": "markdown",
   "metadata": {},
   "source": [
    "This shows that it is necessary to clip out the data based on the gps locations in LA county"
   ]
  },
  {
   "cell_type": "code",
   "execution_count": 39,
   "metadata": {},
   "outputs": [],
   "source": [
    "# GPS Box\n",
    "\n",
    "# Highest\n",
    "limitNorth = 34.2 # Grapevine\n",
    "limitSouth = 33.42 # Korean War Memorial / Port of LA\n",
    "limitEast = 117.40 # Mt Baldy\n",
    "limitWest = 118.48 # Malibu Point Dume\n"
   ]
  },
  {
   "cell_type": "code",
   "execution_count": 59,
   "metadata": {},
   "outputs": [],
   "source": [
    "# Finding outliars \n",
    "outOfBoundsLatTest =  test[~(limitSouth <  test['start_lat'] ) & (limitNorth > test['start_lat']) ].index\n",
    "outOfBoundsLonTest = test[(limitEast <  test['start_lon'] ) & (limitWest > test['start_lon']) ].index#< limitNorth ]\n",
    "\n",
    "test.drop(outOfBoundsLonTest,inplace=True)\n",
    "test.drop(outOfBoundsLatTest,inplace=True)\n",
    "\n"
   ]
  },
  {
   "cell_type": "code",
   "execution_count": 60,
   "metadata": {},
   "outputs": [],
   "source": [
    "\n",
    "outOfBoundsLatTrain =  train[~(limitSouth <  train['start_lat'] ) & (limitNorth > train['start_lat']) ].index\n",
    "outOfBoundsLonTrain = train[(limitEast <  train['start_lon'] ) & (limitWest > train['start_lon']) ].index\n",
    "\n",
    "train.drop(outOfBoundsLatTrain,inplace=True )\n",
    "train.drop(outOfBoundsLonTrain,inplace=True)\n",
    "\n",
    "##< limitNorth ]"
   ]
  },
  {
   "cell_type": "code",
   "execution_count": null,
   "metadata": {},
   "outputs": [],
   "source": []
  },
  {
   "cell_type": "code",
   "execution_count": null,
   "metadata": {},
   "outputs": [],
   "source": [
    "#  Python Openign GeoJSON\n"
   ]
  },
  {
   "cell_type": "code",
   "execution_count": null,
   "metadata": {},
   "outputs": [],
   "source": []
  },
  {
   "cell_type": "code",
   "execution_count": null,
   "metadata": {},
   "outputs": [],
   "source": []
  },
  {
   "cell_type": "code",
   "execution_count": null,
   "metadata": {},
   "outputs": [],
   "source": []
  },
  {
   "cell_type": "markdown",
   "metadata": {},
   "source": []
  }
 ],
 "metadata": {
  "kernelspec": {
   "display_name": "geopython",
   "language": "python",
   "name": "python3"
  },
  "language_info": {
   "codemirror_mode": {
    "name": "ipython",
    "version": 3
   },
   "file_extension": ".py",
   "mimetype": "text/x-python",
   "name": "python",
   "nbconvert_exporter": "python",
   "pygments_lexer": "ipython3",
   "version": "3.11.0"
  },
  "orig_nbformat": 4,
  "vscode": {
   "interpreter": {
    "hash": "8ae99d43a42008d58ea61e476e35b7288ea8500ec5b0236e55165bef59f8a4dd"
   }
  }
 },
 "nbformat": 4,
 "nbformat_minor": 2
}
