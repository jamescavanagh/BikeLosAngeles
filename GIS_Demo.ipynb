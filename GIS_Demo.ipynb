{
 "cells": [
  {
   "cell_type": "code",
   "execution_count": 1,
   "metadata": {},
   "outputs": [],
   "source": [
    "import turtle as t"
   ]
  },
  {
   "cell_type": "code",
   "execution_count": 3,
   "metadata": {},
   "outputs": [],
   "source": [
    "Name = 0 \n",
    "Points = 1\n",
    "Pop = 2"
   ]
  },
  {
   "cell_type": "code",
   "execution_count": 4,
   "metadata": {},
   "outputs": [],
   "source": [
    "state = [\"Colorado\",[[-109, 37], [-109, 41],[-102,41],[-102, 37]],5187582]"
   ]
  },
  {
   "cell_type": "code",
   "execution_count": 5,
   "metadata": {},
   "outputs": [],
   "source": [
    "cities = []\n",
    "cities.append([\"DENVER\",[-104.98, 39.74], 634265])\n",
    "cities.append([\"BOULDER\",[-105.27, 40.02], 98889])\n",
    "cities.append([\"DURANGO\",[-107.88,37.28], 17069])"
   ]
  },
  {
   "cell_type": "code",
   "execution_count": 6,
   "metadata": {},
   "outputs": [],
   "source": [
    "map_width = 400\n",
    "map_height = 300"
   ]
  },
  {
   "cell_type": "code",
   "execution_count": 11,
   "metadata": {},
   "outputs": [],
   "source": [
    "# Determining Bounding Box of the Graphics\n",
    "\n",
    "minx = 180\n",
    "maxx = -180\n",
    "miny = 90\n",
    "maxy = -90\n",
    "for x,y in state[Points]:\n",
    "    if x < minx: \n",
    "        minx = x\n",
    "    elif x > maxx: \n",
    "        maxx = x\n",
    "    if y < miny: \n",
    "        miny = y\n",
    "    elif y > maxy: \n",
    "        maxy = y\n",
    "\n",
    "# Scaling the image\n",
    "\n",
    "dist_x = maxx - minx\n",
    "dist_y = maxy - miny\n",
    "x_ratio = map_width / dist_x\n",
    "y_ratio = map_height / dist_y"
   ]
  },
  {
   "cell_type": "code",
   "execution_count": 12,
   "metadata": {},
   "outputs": [],
   "source": [
    "def convert(point):\n",
    "    \"\"\"\n",
    "    Converts a point on a map to a pixel coordinate\n",
    "    \"\"\"\n",
    "    lon = point[0]\n",
    "    lat = point[1]\n",
    "\n",
    "    \n",
    "    x = map_width - ((maxx - lon) * x_ratio)\n",
    "    y = map_height - ((maxy - lat) * y_ratio)\n",
    "    # Python turtle graphics start in the\n",
    "    # middle of the screen\n",
    "    # so we must offset the points so they are centered\n",
    "    x = x - (map_width/2)\n",
    "    y = y - (map_height/2)\n",
    "    return [x,y]"
   ]
  },
  {
   "cell_type": "code",
   "execution_count": 16,
   "metadata": {},
   "outputs": [],
   "source": [
    "t.up()\n",
    "first_pixel = None\n",
    "for point in state[Points]:\n",
    "  pixel = convert(point)\n",
    "  if not first_pixel:\n",
    "    first_pixel = pixel\n",
    "  t.goto(pixel)\n",
    "  t.down()\n",
    "t.goto(first_pixel)\n",
    "t.up()\n",
    "t.goto([0,0])\n",
    "t.write(state[Name], align=\"center\", font=(\"Arial\",16,\"bold\"))\n"
   ]
  },
  {
   "cell_type": "code",
   "execution_count": 17,
   "metadata": {},
   "outputs": [],
   "source": [
    "  for city in cities:\n",
    "      pixel = convert(city[Points])\n",
    "      t.up()\n",
    "      t.goto(pixel)\n",
    "      # Place a point for the city\n",
    "      t.dot(10)\n",
    "      # Label the city\n",
    "      t.write(city[Name] + \", Pop.: \" + str(city[Pop]), \n",
    "      align=\"left\")\n",
    "      t.up()"
   ]
  },
  {
   "cell_type": "code",
   "execution_count": 18,
   "metadata": {},
   "outputs": [],
   "source": [
    "biggest_city = max(cities, key=lambda city:city[Pop])\n",
    "t.goto(0,-200)\n",
    "t.write(\"The biggest city is: \" + biggest_city[Name])"
   ]
  },
  {
   "cell_type": "code",
   "execution_count": 20,
   "metadata": {},
   "outputs": [],
   "source": [
    "western_city = min(cities, key=lambda city:city[Points])\n",
    "t.goto(0,-220)\n",
    "t.write(\"The western-most city is: \" + western_city[Name])"
   ]
  },
  {
   "cell_type": "code",
   "execution_count": 21,
   "metadata": {},
   "outputs": [],
   "source": [
    "t.pen(shown=False)\n",
    "t.done()"
   ]
  },
  {
   "cell_type": "code",
   "execution_count": null,
   "metadata": {},
   "outputs": [],
   "source": []
  },
  {
   "attachments": {},
   "cell_type": "markdown",
   "metadata": {},
   "source": [
    "### Part 2: Working with Vector Data"
   ]
  },
  {
   "attachments": {},
   "cell_type": "markdown",
   "metadata": {},
   "source": [
    "import shapely.wkt\n",
    "\n",
    "Dependencies\n",
    "conda-forge gdal\n",
    "\n",
    "These Python wrappers help us go to a library\n",
    "\n",
    "shapely \n",
    "Pillow, Folium\n",
    "Pymea\n",
    "Geocoder\n",
    "Geopy\n",
    "ipykernel"
   ]
  },
  {
   "cell_type": "markdown",
   "metadata": {},
   "source": []
  },
  {
   "cell_type": "code",
   "execution_count": 16,
   "metadata": {},
   "outputs": [],
   "source": [
    "import shapely.wkt\n",
    "from osgeo import gdal\n",
    "from osgeo import ogr\n",
    "\n",
    "from pathlib import Path\n",
    "######### Variables\n",
    "\n",
    "PathPolygon = Path('/home/jentlejames/Projects/Data/Data Analysis Projects/BikeLA/Data/examples/polygon')"
   ]
  },
  {
   "cell_type": "code",
   "execution_count": 8,
   "metadata": {},
   "outputs": [],
   "source": [
    "wktPoly = \"POLYGON((0 0,4 0,4 4,0 4,0 0),(1 1, 2 1, 2 2, 1 2,1 1))\""
   ]
  },
  {
   "cell_type": "code",
   "execution_count": 9,
   "metadata": {},
   "outputs": [],
   "source": [
    "poly = shapely.wkt.loads(wktPoly)"
   ]
  },
  {
   "cell_type": "code",
   "execution_count": 10,
   "metadata": {},
   "outputs": [
    {
     "data": {
      "text/plain": [
       "15.0"
      ]
     },
     "execution_count": 10,
     "metadata": {},
     "output_type": "execute_result"
    }
   ],
   "source": [
    "poly.area"
   ]
  },
  {
   "cell_type": "code",
   "execution_count": 18,
   "metadata": {},
   "outputs": [],
   "source": [
    "shape = ogr.Open(str(PathPolygon/\"polygon.shp\"))"
   ]
  },
  {
   "cell_type": "code",
   "execution_count": 22,
   "metadata": {},
   "outputs": [],
   "source": [
    "layer = shape.GetLayer()\n",
    "feature = layer.GetNextFeature()\n",
    "#geom = feature.GetGeometryRef()\n",
    "#wtk = geom.ExportToWkt()"
   ]
  },
  {
   "cell_type": "code",
   "execution_count": 23,
   "metadata": {},
   "outputs": [],
   "source": [
    "feature"
   ]
  },
  {
   "cell_type": "code",
   "execution_count": null,
   "metadata": {},
   "outputs": [],
   "source": []
  }
 ],
 "metadata": {
  "kernelspec": {
   "display_name": "geopython",
   "language": "python",
   "name": "python3"
  },
  "language_info": {
   "codemirror_mode": {
    "name": "ipython",
    "version": 3
   },
   "file_extension": ".py",
   "mimetype": "text/x-python",
   "name": "python",
   "nbconvert_exporter": "python",
   "pygments_lexer": "ipython3",
   "version": "3.11.0 | packaged by conda-forge | (main, Oct 25 2022, 06:24:40) [GCC 10.4.0]"
  },
  "orig_nbformat": 4,
  "vscode": {
   "interpreter": {
    "hash": "8ae99d43a42008d58ea61e476e35b7288ea8500ec5b0236e55165bef59f8a4dd"
   }
  }
 },
 "nbformat": 4,
 "nbformat_minor": 2
}
